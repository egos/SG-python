{
 "cells": [
  {
   "cell_type": "markdown",
   "metadata": {
    "heading_collapsed": true
   },
   "source": [
    "# Save"
   ]
  },
  {
   "cell_type": "code",
   "execution_count": null,
   "metadata": {
    "hidden": true
   },
   "outputs": [],
   "source": []
  },
  {
   "cell_type": "code",
   "execution_count": null,
   "metadata": {
    "hidden": true
   },
   "outputs": [],
   "source": [
    "# Listes\n",
    "# 1) Créer une liste d'entiers d'au moins 10 éléments et afficher la taille de la liste\n",
    "l = [5,8,9,5,4,9,3,9,3,0,5,3]\n",
    "print(len(l))\n",
    "\n",
    "# 2) Afficher du 3eme au 5eme élément de la liste (en une ligne de code)\n",
    "print(l[2:5])\n",
    "\n",
    "# 3) Ajouter un nombre réel à cette liste et afficher la liste\n",
    "l.append(236.6)\n",
    "print(l)\n",
    "\n",
    "# 4) Afficher la plus faible valeur de la liste (Sans modifier la liste)\n",
    "print(sorted(l)[0])\n",
    "\n",
    "# String\n",
    "s = \"This is a totaly random sentence.\"\n",
    "print(s)\n",
    "\n",
    "# 1) Retirer le mot 'totaly' de la phrase et afficher la nouvelle phrase\n",
    "s = s.replace('totaly ', '')\n",
    "print(s)\n",
    "\n",
    "# 2) Créer une liste contenant tout les mots de la phrase (sans la ponctuation) et l'afficher\n",
    "l = s[:-1].split(' ')\n",
    "print(l)\n",
    "\n",
    "# Rajout pour montrer que [:-1 c'est pour tronquer à la fin de 1 caractère ou de 4 ici]\n",
    "vv = \"This is testing <>\"\n",
    "nl = vv[:-4].split(' ')\n",
    "print(nl)\n",
    "\n",
    "# Dictionnaries and Loop\n",
    "d = {'a': 5, 'g':8.89, 9: ['a', 2, 3], 7: \"hello\"}\n",
    "\n",
    "# 1) afficher la liste des clés\n",
    "print(d.keys())\n",
    "\n",
    "# 2) Utiliser une boucle pour afficher une phrase contenant la clé \n",
    "#    et la valeur correspondantes pour tous les éléments du dictionnaire\n",
    "for k, v in d.items():\n",
    "    print(\"La clé {} contient la valeur {}\".format(k, v))\n",
    "    \n",
    "# 3) Dans la boucle précédante, ajouter une phrase spécifique lorsque la valeur 5 est trouvée\n",
    "for k, v in d.items():\n",
    "    if v == 5:\n",
    "        print(\"C'est la valeur {} pour la clé {}!\".format(v, k))\n",
    "    else:\n",
    "        print(\"La clé {} contient la valeur {}\".format(k, v))"
   ]
  },
  {
   "cell_type": "markdown",
   "metadata": {},
   "source": [
    "# PLAN"
   ]
  },
  {
   "cell_type": "markdown",
   "metadata": {},
   "source": [
    "1. Basic Python\n",
    "1. Exercice Hello World"
   ]
  },
  {
   "cell_type": "markdown",
   "metadata": {},
   "source": [
    "# Links"
   ]
  },
  {
   "cell_type": "markdown",
   "metadata": {},
   "source": [
    "* https://www.earthdatascience.org/courses/intro-to-earth-data-science/file-formats/use-text-files/format-text-with-markdown-jupyter-notebook/\n",
    "* https://commonmark.org/help/\n",
    "* https://www.dataquest.io/blog/jupyter-notebook-tips-tricks-shortcuts/"
   ]
  },
  {
   "cell_type": "markdown",
   "metadata": {},
   "source": [
    "# Jupyter Tips"
   ]
  },
  {
   "cell_type": "markdown",
   "metadata": {},
   "source": [
    "https://www.dataquest.io/blog/jupyter-notebook-tips-tricks-shortcuts/"
   ]
  },
  {
   "cell_type": "markdown",
   "metadata": {},
   "source": [
    "\n",
    "* Esc will take you into command mode where you can navigate around your notebook with arrow keys.\n",
    "* Once cells are selected, you can then delete / copy / cut / paste / run them as a batch. This is helpful when you need to move parts of a notebook.\n",
    "* Enter will take you from command mode back into edit mode for the given cell.\n",
    "\n",
    "While in command mode:\n",
    "\n",
    "* A to insert a new cell above the current cell.\n",
    "* B to insert a new cell below the current cell.\n",
    "* M to change the current cell to Markdown, Y to change it back to code,cells.\n",
    "* D + D (press the key twice) to delete the current cell\n",
    "* Ctrl + Shift + - will split the current cell into two from where your cursor is.\n",
    "* Esc + F Find and replace on your code but not the outputs.\n",
    "* Esc + O Toggle cell output.\n",
    "\n",
    "Select Multiple Cells:\n",
    "* Shift + J or Shift + Down selects the next sell in a downwards direction. \n",
    "* You can also select sells in an upwards direction by using Shift + K or Shift + Up. \n",
    "* You can also use Shift + M to merge multiple \n",
    "\n",
    "While in edit mode:\n",
    "* Shift + Enter : run cell and go to next cell (Ctrl + Enter : stay in the same cell)\n",
    "* Shift + Tab will show you the Docstring (documentation) for the the object you have just typed in a code cell – you can keep pressing this short cut to cycle through a few modes of documentation.\n",
    "* Ctrl + / comment out a block of multiple lines \n",
    "* Ctrl + Z work independently for all cell "
   ]
  },
  {
   "cell_type": "markdown",
   "metadata": {},
   "source": [
    "# Terminal [exo]\n",
    "    install a lib"
   ]
  },
  {
   "cell_type": "markdown",
   "metadata": {},
   "source": [
    "1. ouvrir un terminal anaconda prompt\n",
    "2. pip install wordcloud"
   ]
  },
  {
   "cell_type": "markdown",
   "metadata": {},
   "source": [
    "# Import"
   ]
  },
  {
   "cell_type": "code",
   "execution_count": null,
   "metadata": {},
   "outputs": [],
   "source": [
    "import json\n",
    "import time\n",
    "import glob, os\n",
    "import random\n",
    "\n",
    "import pandas as pd\n",
    "import numpy as np\n",
    "\n",
    "from IPython.display import display, HTML\n",
    "import matplotlib.pyplot as plt\n",
    "\n",
    "#permet d'afficher des graph dans le notebook\n",
    "%matplotlib inline \n",
    "\n",
    "#permet d'afficher plusieurs sortis par cellule sans utiliser print()\n",
    "from IPython.core.interactiveshell import InteractiveShell\n",
    "InteractiveShell.ast_node_interactivity = \"all\"\n",
    "\n",
    "#permet d'augemnter la largeur des cellules\n",
    "from IPython.core.display import display, HTML\n",
    "display(HTML(\"<style>.container { width:70%! important; }</style>\"))"
   ]
  },
  {
   "cell_type": "code",
   "execution_count": null,
   "metadata": {},
   "outputs": [],
   "source": [
    "#optionnel si difficulté pour autocompletion \n",
    "%config Completer.use_jedi = False"
   ]
  },
  {
   "cell_type": "markdown",
   "metadata": {},
   "source": [
    "# Python"
   ]
  },
  {
   "cell_type": "code",
   "execution_count": null,
   "metadata": {},
   "outputs": [],
   "source": [
    "from IPython.display import Image\n",
    "WebSite = \"https://www.houseofbots.com/images/news/12446/cover.png\" \n",
    "Image(url=WebSite, width=500)"
   ]
  },
  {
   "cell_type": "markdown",
   "metadata": {},
   "source": [
    "## Data structure"
   ]
  },
  {
   "cell_type": "code",
   "execution_count": null,
   "metadata": {},
   "outputs": [],
   "source": [
    "#list\n",
    "countries_and_stuff = [\"france\", \"germany\", 42, True]\n",
    "countries_and_stuff\n",
    "\n",
    "[\"france\"] * 4\n",
    "\n",
    "countries_and_stuff.append(\"london\")\n",
    "countries_and_stuff\n",
    "\n",
    "len(countries_and_stuff) \n",
    "\n",
    "countries_and_stuff = countries_and_stuff + [\"belgium\", \"italy\"]\n",
    "countries_and_stuff\n",
    "\n",
    "countries_and_stuff.pop(0) "
   ]
  },
  {
   "cell_type": "code",
   "execution_count": null,
   "metadata": {},
   "outputs": [],
   "source": [
    "#tuple\n",
    "countries_and_stuff[2:-1] \n",
    "landmark_tuple = (\"Paris\", \"Eiffel Tower\") \n",
    "landmark_tuple\n",
    "len(landmark_tuple) \n",
    "landmark_tuple[-1] \n",
    "landmark_tuple[0] \n",
    "landmark_tuple = landmark_tuple + (1.0, ) \n",
    "landmark_tuple\n",
    "landmark_tuple.append(\"Arc de Triomphe\") "
   ]
  },
  {
   "cell_type": "code",
   "execution_count": null,
   "metadata": {},
   "outputs": [],
   "source": [
    "#dict\n",
    "capitals = {\"france\": \"paris\", \"england\": \"london\", \"germany\": \"berlin\"}\n",
    "capitals[\"belgium\"] = \"brussels\"\n",
    "capitals[\"france\"]\n",
    "#capitals[\"wonderland\"] \n",
    "\n",
    "city = capitals.get(\"wonderland\") \n",
    "type(city) \n",
    "capitals.get(\"wonderland\", \"nowhere\") \n",
    "capitals.keys()\n",
    "capitals.values() \n",
    "capitals.items()\n",
    "\n",
    "for key, val in capitals.items():\n",
    "    print(key, val)"
   ]
  },
  {
   "cell_type": "markdown",
   "metadata": {},
   "source": [
    "## Hello world [exo]"
   ]
  },
  {
   "cell_type": "code",
   "execution_count": null,
   "metadata": {},
   "outputs": [],
   "source": [
    "txt = 'hello world'\n",
    "print (txt)"
   ]
  },
  {
   "cell_type": "code",
   "execution_count": null,
   "metadata": {},
   "outputs": [],
   "source": [
    "from wordcloud import WordCloud"
   ]
  },
  {
   "cell_type": "raw",
   "metadata": {},
   "source": [
    "List command \n",
    "str ,join() ,  upper() ,random , append()\n",
    "for i in range(x)"
   ]
  },
  {
   "cell_type": "code",
   "execution_count": null,
   "metadata": {},
   "outputs": [],
   "source": [
    "txt.upper()\n",
    "\n",
    "newtxt = ''.join([x.upper() if random.randint(0,1)==1 else x for x in txt ])\n",
    "print(newtxt)\n",
    "\n",
    "for i in range(3):\n",
    "    newtxt = ''.join([x.upper() if random.randint(0,1)==1 else x for x in txt ])\n",
    "    print(newtxt)\n",
    "\n",
    "data = {}\n",
    "n = 100\n",
    "for i in range(n):\n",
    "    newtxt = ''.join([x.upper() if random.randint(0,1)==1 else x for x in txt ])\n",
    "    data[newtxt] = random.randint(1,100)"
   ]
  },
  {
   "cell_type": "code",
   "execution_count": null,
   "metadata": {},
   "outputs": [],
   "source": [
    "data"
   ]
  },
  {
   "cell_type": "code",
   "execution_count": null,
   "metadata": {},
   "outputs": [],
   "source": [
    "#data = {txt : occurence}\n",
    "data ={'HELLOWORLD' : 20,\n",
    "       'helloworld' : 10}"
   ]
  },
  {
   "cell_type": "code",
   "execution_count": null,
   "metadata": {
    "scrolled": false
   },
   "outputs": [],
   "source": [
    "wc = WordCloud(width=800, height=400, max_words=200).generate_from_frequencies(data)\n",
    "\n",
    "plt.figure(figsize=(20, 20))\n",
    "plt.imshow(wc, interpolation='bilinear')\n",
    "plt.axis('off')\n",
    "plt.show()"
   ]
  },
  {
   "cell_type": "markdown",
   "metadata": {},
   "source": [
    "# Pandas"
   ]
  },
  {
   "cell_type": "markdown",
   "metadata": {},
   "source": [
    "## Basic"
   ]
  },
  {
   "cell_type": "code",
   "execution_count": null,
   "metadata": {},
   "outputs": [],
   "source": [
    "import pandas \n",
    "import numpy as np \n",
    "df = pandas.DataFrame({\n",
    "    'col1': ['Item0', 'Item0', 'Item1', 'Item1'], \n",
    "    'col2': ['Gold', 'Bronze', 'Gold', 'Silver'], \n",
    "    'col3': [1, 2, np.nan, 4] \n",
    "})\n",
    "df"
   ]
  },
  {
   "cell_type": "code",
   "execution_count": null,
   "metadata": {},
   "outputs": [],
   "source": [
    "# Displays the top 5 rows. Accepts an optional int parameter - num. of rows to show \n",
    "df.head() \n",
    "# Similar to head, but displays the last rows \n",
    "df.tail() \n",
    "# The dimensions of the dataframe as a (rows, cols) tuple \n",
    "df.shape \n",
    "# The number of columns. Equal to df.shape[0] \n",
    "len(df) \n",
    "# An array of the column names \n",
    "df.columns \n",
    "# Columns and their types \n",
    "df.dtypes \n",
    "# Converts the frame to a two-dimensional table \n",
    "df.values "
   ]
  },
  {
   "cell_type": "code",
   "execution_count": null,
   "metadata": {},
   "outputs": [],
   "source": [
    "# Selects only the column named 'col1’ \n",
    "df.col1 \n",
    "# Same as previous \n",
    "df['col1'] \n",
    "# Select two columns \n",
    "df[['col1', 'col2']]\n",
    "# Selects rows 1-to-3 \n",
    "df.loc[1:3:,['col1', 'col2']] \n",
    "# First 4 rows and first 2 columns \n",
    "df.iloc[1:3, 0:2]"
   ]
  },
  {
   "cell_type": "code",
   "execution_count": null,
   "metadata": {},
   "outputs": [],
   "source": [
    "#selec & slice\n",
    "\n",
    "# mask = Produces and array, not a single value! \n",
    "df.col3 > 0\n",
    "# Query by a single column value \n",
    "df[df.col3 > 0] \n",
    "# Query by a single column, if it is in a list of predefined values df[df['col2'].isin(['Gold', 'Silver’])]\n",
    "# A conjunction query using two columns \n",
    "df[(df['col3'] > 0) & (df['col2'] == 'Silver')] \n",
    "# A disjunction query using two columns \n",
    "df[(df['col3'] > 0) | (df['col2'] == 'Silver')] \n",
    "# A query checking the textual content of the cells \n",
    "df[df.col2.str.contains('ilver')]\n",
    "# Modifies the cell identified by its row index and column name\n",
    "df.at[1, 'col2'] = 'Bronze and Gold'\n",
    "df.loc[1, 'col2'] = 'Bronze and Gold'\n",
    "# Replaces the column with the array. It could be a numpy array or a simple list. \n",
    "#Could also be used to create new columns \n",
    "df.loc[:,'col3'] = ['Unknown'] * len(df) \n",
    "'Equivalent to the previous '\n",
    "df.col3 = ['Unknown'] * len(df) \n"
   ]
  },
  {
   "cell_type": "code",
   "execution_count": null,
   "metadata": {},
   "outputs": [],
   "source": [
    "df = pandas.DataFrame({\n",
    "    'col1': ['Item0', 'Item0', 'Item1', 'Item1'], \n",
    "    'col2': ['Gold', 'Bronze', 'Gold', 'Silver'], \n",
    "    'col3': [1, 2, np.nan, 4] \n",
    "})\n",
    "# Removes all rows with any missing values. \n",
    "df.dropna(how='any') \n",
    "# Removes all rows with all missing values. \n",
    "df.dropna(how='all')\n",
    "# list value for a col\n",
    "df.col1.value_counts()\n",
    "# \n",
    "df.col3.apply(type)"
   ]
  },
  {
   "cell_type": "markdown",
   "metadata": {},
   "source": [
    "## Ex1"
   ]
  },
  {
   "cell_type": "code",
   "execution_count": null,
   "metadata": {},
   "outputs": [],
   "source": [
    "dates = pd.date_range('20130101', periods=6)\n",
    "dates"
   ]
  },
  {
   "cell_type": "code",
   "execution_count": null,
   "metadata": {},
   "outputs": [],
   "source": [
    "list('ABCD')"
   ]
  },
  {
   "cell_type": "code",
   "execution_count": null,
   "metadata": {},
   "outputs": [],
   "source": [
    "df = pd.DataFrame(np.random.randn(6, 4), index=dates, columns=list('ABCD'))\n",
    "df"
   ]
  },
  {
   "cell_type": "code",
   "execution_count": null,
   "metadata": {},
   "outputs": [],
   "source": [
    "df.plot()"
   ]
  },
  {
   "cell_type": "code",
   "execution_count": null,
   "metadata": {},
   "outputs": [],
   "source": [
    "Json = df.to_json(orient ='split')"
   ]
  },
  {
   "cell_type": "markdown",
   "metadata": {},
   "source": [
    "### add columns"
   ]
  },
  {
   "cell_type": "code",
   "execution_count": null,
   "metadata": {},
   "outputs": [],
   "source": [
    "df[]"
   ]
  },
  {
   "cell_type": "markdown",
   "metadata": {},
   "source": [
    "### slice"
   ]
  },
  {
   "cell_type": "markdown",
   "metadata": {},
   "source": [
    "## Lambda exemple"
   ]
  },
  {
   "cell_type": "code",
   "execution_count": null,
   "metadata": {},
   "outputs": [],
   "source": [
    "def test(input):\n",
    "    print(input)"
   ]
  },
  {
   "cell_type": "code",
   "execution_count": null,
   "metadata": {},
   "outputs": [],
   "source": [
    "import json\n",
    "import numpy as np\n",
    "import pandas as pd\n",
    "\n",
    "def run(input):\n",
    "    \"\"\"\n",
    "    Random data template for MAXX Widget\n",
    "    \n",
    "\n",
    "    Args:\n",
    "      nb_series (integer): nb of series to generate\n",
    "      prefix_serie (str)[serie,data,test]: prefix to use for the serie name\n",
    "      type (str)[table, line, pie]: choose the type of output\n",
    "\n",
    "    Tags: Test tim post\n",
    "    \"\"\"\n",
    "    # Parse arguments\n",
    "    args = json.loads(input)\n",
    "\n",
    "    # Default value in case the parameter is not specified\n",
    "    nb_series = int(args.get('nb_series', 3))\n",
    "    prefix_serie = args.get('prefix_serie', 'default')\n",
    "\n",
    "    # Columns name\n",
    "    series_labels = [prefix_serie + '_' + str(x) for x in range(nb_series)]\n",
    "\n",
    "    # Generate random data\n",
    "    type_output = args.get('type', 'table')\n",
    "    if type_output == 'pie':\n",
    "        # For Pie we support single line only\n",
    "        data = np.random.rand(1, nb_series) * 100\n",
    "        df = pd.DataFrame(data, columns=series_labels)\n",
    "    else:\n",
    "        # Generate 10 points for each serie\n",
    "        data = np.random.rand(10, nb_series) * 20\n",
    "        df = pd.DataFrame(data, columns=series_labels)\n",
    "\n",
    "        # Operation on DataFrame\n",
    "        df = df * 10\n",
    "        df['x'] = df.index\n",
    "        \n",
    "\n",
    "\n",
    "    # Send back the result\n",
    "    # When using the widget data MUST be returned in the following way\n",
    "    return df.to_json(orient='split')"
   ]
  },
  {
   "cell_type": "code",
   "execution_count": null,
   "metadata": {},
   "outputs": [],
   "source": [
    "nb_series = 3\n",
    "series_labels = [nb_series + '_' + str(x) for x in range(nb_series)]"
   ]
  },
  {
   "cell_type": "code",
   "execution_count": null,
   "metadata": {},
   "outputs": [],
   "source": [
    "test(args)"
   ]
  },
  {
   "cell_type": "code",
   "execution_count": null,
   "metadata": {},
   "outputs": [],
   "source": [
    "args = {'nb_series':3 ,\n",
    "       'prefix_serie' : 'bof',\n",
    "       'type': \"table\"}"
   ]
  },
  {
   "cell_type": "code",
   "execution_count": null,
   "metadata": {},
   "outputs": [],
   "source": [
    "run(json.dumps(args))"
   ]
  },
  {
   "cell_type": "code",
   "execution_count": null,
   "metadata": {},
   "outputs": [],
   "source": []
  }
 ],
 "metadata": {
  "kernelspec": {
   "display_name": "Python 3",
   "language": "python",
   "name": "python3"
  },
  "language_info": {
   "codemirror_mode": {
    "name": "ipython",
    "version": 3
   },
   "file_extension": ".py",
   "mimetype": "text/x-python",
   "name": "python",
   "nbconvert_exporter": "python",
   "pygments_lexer": "ipython3",
   "version": "3.7.4"
  },
  "toc": {
   "base_numbering": 1,
   "nav_menu": {},
   "number_sections": true,
   "sideBar": true,
   "skip_h1_title": false,
   "title_cell": "Table of Contents",
   "title_sidebar": "Contents",
   "toc_cell": false,
   "toc_position": {
    "height": "calc(100% - 180px)",
    "left": "10px",
    "top": "150px",
    "width": "262px"
   },
   "toc_section_display": true,
   "toc_window_display": true
  }
 },
 "nbformat": 4,
 "nbformat_minor": 2
}
